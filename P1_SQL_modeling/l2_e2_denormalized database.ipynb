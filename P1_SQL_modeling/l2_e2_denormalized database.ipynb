{
 "cells": [
  {
   "cell_type": "markdown",
   "metadata": {},
   "source": [
    "### Import the library \n",
    "Note: An error might popup after this command has exectuted. If it does read it careful before ignoring. "
   ]
  },
  {
   "cell_type": "code",
   "execution_count": 1,
   "metadata": {
    "collapsed": true
   },
   "outputs": [],
   "source": [
    "import psycopg2"
   ]
  },
  {
   "cell_type": "code",
   "execution_count": 3,
   "metadata": {},
   "outputs": [],
   "source": [
    "conn=psycopg2.connect('host=127.0.0.1 dbname=data_engineering user=postgres password=macbook')"
   ]
  },
  {
   "cell_type": "code",
   "execution_count": 4,
   "metadata": {
    "collapsed": true
   },
   "outputs": [],
   "source": [
    "cur=conn.cursor()"
   ]
  },
  {
   "cell_type": "code",
   "execution_count": 5,
   "metadata": {
    "collapsed": true
   },
   "outputs": [],
   "source": [
    "conn.set_session(autocommit=True)"
   ]
  },
  {
   "cell_type": "markdown",
   "metadata": {},
   "source": [
    "#### Let's start with our normalized (3NF) database set of tables we had in the last exercise, but we have added a new table `sales`. \n",
    "\n",
    "`Table Name: transactions2 \n",
    "column 0: transaction Id\n",
    "column 1: Customer Name\n",
    "column 2: Cashier Id\n",
    "column 3: Year `\n",
    "\n",
    "`Table Name: albums_sold\n",
    "column 0: Album Id\n",
    "column 1: Transaction Id\n",
    "column 3: Album Name` \n",
    "\n",
    "`Table Name: employees\n",
    "column 0: Employee Id\n",
    "column 1: Employee Name `\n",
    "\n",
    "`Table Name: sales\n",
    "column 0: Transaction Id\n",
    "column 1: Amount Spent\n",
    "`\n",
    "<img src=\"images/table16.png\" width=\"450\" height=\"450\"> <img src=\"images/table15.png\" width=\"450\" height=\"450\"> <img src=\"images/table17.png\" width=\"350\" height=\"350\"> <img src=\"images/table18.png\" width=\"350\" height=\"350\">\n"
   ]
  },
  {
   "cell_type": "markdown",
   "metadata": {},
   "source": [
    "### Add all Create statements for all Tables and Insert data into the tables"
   ]
  },
  {
   "cell_type": "code",
   "execution_count": 8,
   "metadata": {},
   "outputs": [],
   "source": [
    "cur.execute(\"create table  if not exists transactions2(transaction_id int,customer_name varchar,cashier_id int,year int)\")\n",
    "cur.execute(\"create table  if not exists albums_sold(album_id int,transaction_id int,album_name varchar)\")\n",
    "cur.execute(\"create table  if not exists employees(employee_id int,employee_name varchar)\")\n",
    "cur.execute(\"create table  if not exists sales(transaction_id int,amount_spent int)\")"
   ]
  },
  {
   "cell_type": "markdown",
   "metadata": {},
   "source": [
    "# TO-DO: Insert data into the tables    \n"
   ]
  },
  {
   "cell_type": "code",
   "execution_count": 9,
   "metadata": {
    "collapsed": true
   },
   "outputs": [],
   "source": [
    "query=\"insert into transactions2(transaction_id,customer_name,cashier_id,year)values(%s,%s,%s,%s)\"\n",
    "cur.execute(query,(1,\"adam\",1,1990))"
   ]
  },
  {
   "cell_type": "code",
   "execution_count": 10,
   "metadata": {
    "collapsed": true
   },
   "outputs": [],
   "source": [
    "cur.execute(query,(2,\"adam\",1,1990))"
   ]
  },
  {
   "cell_type": "code",
   "execution_count": 11,
   "metadata": {
    "collapsed": true
   },
   "outputs": [],
   "source": [
    "cur.execute(query,(3,\"tommy\",1,1990))"
   ]
  },
  {
   "cell_type": "code",
   "execution_count": 12,
   "metadata": {
    "collapsed": true
   },
   "outputs": [],
   "source": [
    "cur.execute(query,(4,\"gunk\",2,1990))"
   ]
  },
  {
   "cell_type": "code",
   "execution_count": 21,
   "metadata": {
    "collapsed": true
   },
   "outputs": [],
   "source": [
    "query=\"insert into albums_sold(album_id,transaction_id,album_name)values(%s,%s,%s)\"\n",
    "cur.execute(query,(5,1,\"jackie\"))"
   ]
  },
  {
   "cell_type": "code",
   "execution_count": 14,
   "metadata": {
    "collapsed": true
   },
   "outputs": [],
   "source": [
    "cur.execute(query,(2,2,\"ponny\"))\n",
    "cur.execute(query,(3,3,\"sunny\"))\n",
    "cur.execute(query,(4,4,\"staircase to hevan\"))"
   ]
  },
  {
   "cell_type": "code",
   "execution_count": 15,
   "metadata": {
    "collapsed": true
   },
   "outputs": [],
   "source": [
    "query=\"insert into employees(employee_id,employee_name)values(%s,%s)\"\n",
    "cur.execute(query,(1,'Bob'))\n",
    "cur.execute(query,(2,'Sam'))"
   ]
  },
  {
   "cell_type": "code",
   "execution_count": 16,
   "metadata": {
    "collapsed": true
   },
   "outputs": [],
   "source": [
    "query=\"INSERT INTO sales (transaction_id, amount_spent)VALUES (%s, %s)\""
   ]
  },
  {
   "cell_type": "code",
   "execution_count": 17,
   "metadata": {
    "collapsed": true
   },
   "outputs": [],
   "source": [
    "cur.execute(query,(1,100))\n",
    "cur.execute(query,(2,10))\n",
    "cur.execute(query,(3,400))\n",
    "cur.execute(query,(4,100000))\n"
   ]
  },
  {
   "cell_type": "markdown",
   "metadata": {},
   "source": [
    "#### Confirm using the Select statement the data were added correctly"
   ]
  },
  {
   "cell_type": "code",
   "execution_count": 22,
   "metadata": {},
   "outputs": [
    {
     "name": "stdout",
     "output_type": "stream",
     "text": [
      "Table: transactions2\n",
      "\n",
      "(1, 'adam', 1, 1990)\n",
      "(2, 'adam', 1, 1990)\n",
      "(3, 'tommy', 1, 1990)\n",
      "(4, 'gunk', 2, 1990)\n",
      "\n",
      "Table: albums_sold\n",
      "\n",
      "(1, 1, 'shiva')\n",
      "(2, 2, 'ponny')\n",
      "(3, 3, 'sunny')\n",
      "(4, 4, 'staircase to hevan')\n",
      "(5, 1, 'jackie')\n",
      "\n",
      "Table: employees\n",
      "\n",
      "(1, 'Bob')\n",
      "(2, 'Sam')\n",
      "\n",
      "Table: sales\n",
      "\n",
      "(1, 100)\n",
      "(2, 10)\n",
      "(3, 400)\n",
      "(4, 100000)\n"
     ]
    }
   ],
   "source": [
    "print(\"Table: transactions2\\n\")\n",
    "try: \n",
    "    cur.execute(\"SELECT * FROM transactions2;\")\n",
    "except psycopg2.Error as e: \n",
    "    print(\"Error: select *\")\n",
    "    print (e)\n",
    "\n",
    "row = cur.fetchone()\n",
    "while row:\n",
    "   print(row)\n",
    "   row = cur.fetchone()\n",
    "\n",
    "print(\"\\nTable: albums_sold\\n\")\n",
    "try: \n",
    "    cur.execute(\"SELECT * FROM albums_sold;\")\n",
    "except psycopg2.Error as e: \n",
    "    print(\"Error: select *\")\n",
    "    print (e)\n",
    "\n",
    "row = cur.fetchone()\n",
    "while row:\n",
    "   print(row)\n",
    "   row = cur.fetchone()\n",
    "\n",
    "print(\"\\nTable: employees\\n\")\n",
    "try: \n",
    "    cur.execute(\"SELECT * FROM employees;\")\n",
    "except psycopg2.Error as e: \n",
    "    print(\"Error: select *\")\n",
    "    print (e)\n",
    "\n",
    "row = cur.fetchone()\n",
    "while row:\n",
    "   print(row)\n",
    "   row = cur.fetchone()\n",
    "    \n",
    "print(\"\\nTable: sales\\n\")\n",
    "try: \n",
    "    cur.execute(\"SELECT * FROM sales;\")\n",
    "except psycopg2.Error as e: \n",
    "    print(\"Error: select *\")\n",
    "    print (e)\n",
    "\n",
    "row = cur.fetchone()\n",
    "while row:\n",
    "   print(row)\n",
    "   row = cur.fetchone()"
   ]
  },
  {
   "cell_type": "markdown",
   "metadata": {},
   "source": [
    "### Let's say you need to do a query that gives:\n",
    "\n",
    "`transaction_id\n",
    " customer_name\n",
    " cashier name\n",
    " year \n",
    " albums sold\n",
    " amount sold` \n",
    "\n",
    "### Complete the statement below to perform a 3 way `JOIN` on the 4 tables you have created. "
   ]
  },
  {
   "cell_type": "code",
   "execution_count": 23,
   "metadata": {},
   "outputs": [
    {
     "name": "stdout",
     "output_type": "stream",
     "text": [
      "(1, 'adam', 'Bob', 1990, 'shiva', 100)\n",
      "(1, 'adam', 'Bob', 1990, 'jackie', 100)\n",
      "(2, 'adam', 'Bob', 1990, 'ponny', 10)\n",
      "(3, 'tommy', 'Bob', 1990, 'sunny', 400)\n",
      "(4, 'gunk', 'Sam', 1990, 'staircase to hevan', 100000)\n"
     ]
    }
   ],
   "source": [
    "try: \n",
    "    cur.execute(\"SELECT \\\n",
    "        transactions2.transaction_id AS transaction_id, \\\n",
    "        transactions2.customer_name  AS customer_name, \\\n",
    "        employees.employee_name      AS cashier_name, \\\n",
    "        transactions2.year           AS year, \\\n",
    "        albums_sold.album_name       AS albums_sold, \\\n",
    "        sales.amount_spent           AS amount_spent \\\n",
    "    FROM \\\n",
    "        transactions2 \\\n",
    "        JOIN employees ON (employees.employee_id = transactions2.cashier_id) \\\n",
    "        JOIN albums_sold ON (albums_sold.transaction_id = transactions2.transaction_id) \\\n",
    "        JOIN sales ON (sales.transaction_id = transactions2.transaction_id)\")\n",
    "    \n",
    "    \n",
    "except psycopg2.Error as e: \n",
    "    print(\"Error: select *\")\n",
    "    print (e)\n",
    "\n",
    "row = cur.fetchone()\n",
    "while row:\n",
    "   print(row)\n",
    "   row = cur.fetchone()"
   ]
  },
  {
   "cell_type": "markdown",
   "metadata": {},
   "source": [
    "#### Great we were able to get the data we wanted.\n",
    "\n",
    "### But, we had to perform a 3 way `JOIN` to get there. While it's great we had that flexibility, we need to remember that `JOINS` are slow and if we have a read heavy workload that required low latency queries we want to reduce the number of `JOINS`.  Let's think about denormalizing our normalized tables."
   ]
  },
  {
   "cell_type": "markdown",
   "metadata": {},
   "source": [
    "### With denormalization you want to think about the queries you are running and how to reduce the number of JOINS even if that means duplicating data. The following are the queries you need to run.\n"
   ]
  },
  {
   "cell_type": "markdown",
   "metadata": {},
   "source": [
    "#### Query 1 : `select transaction_id, customer_name, amount_spent FROM <min number of tables>` \n",
    "It should generate the amount spent on each transaction \n",
    "#### Query 2: `select cashier_name, SUM(amount_spent) FROM <min number of tables> GROUP BY cashier_name` \n",
    "It should generate the total sales by cashier "
   ]
  },
  {
   "cell_type": "markdown",
   "metadata": {},
   "source": [
    "###  Query 1: `select transaction_id, customer_name, amount_spent FROM <min number of tables>`\n",
    "\n",
    "One way to do this would be to do a JOIN on the `sales` and `transactions2` table but we want to minimize the use of `JOINS`.  \n",
    "\n",
    "To reduce the number of tables, first add `amount_spent` to the `transactions` table so that you will not need to do a JOIN at all. \n",
    "\n",
    "`Table Name: transactions \n",
    "column 0: transaction Id\n",
    "column 1: Customer Name\n",
    "column 2: Cashier Id\n",
    "column 3: Year\n",
    "column 4: amount_spent`\n",
    "\n",
    "<img src=\"images/table19.png\" width=\"450\" height=\"450\">\n"
   ]
  },
  {
   "cell_type": "code",
   "execution_count": 32,
   "metadata": {
    "collapsed": true
   },
   "outputs": [],
   "source": [
    "cur.execute(\"create table if not exists transactions(transaction_id int,customer_name varchar,cashier_name varchar,year int,amount_spent int)\")"
   ]
  },
  {
   "cell_type": "code",
   "execution_count": 35,
   "metadata": {
    "collapsed": true
   },
   "outputs": [],
   "source": [
    "query=\"insert into transactions(transaction_id,customer_name,cashier_name,year,amount_spent)values(%s,%s,%s,%s,%s)\""
   ]
  },
  {
   "cell_type": "code",
   "execution_count": 36,
   "metadata": {},
   "outputs": [],
   "source": [
    "cur.execute(query,                (1, 'Amanda', 'Sam', 2000, 40))"
   ]
  },
  {
   "cell_type": "code",
   "execution_count": 37,
   "metadata": {},
   "outputs": [],
   "source": [
    "cur.execute(query,                 (2, 'Toby', 'Sam', 2000, 19))\n",
    "cur.execute(query,                 (3, 'Max', 'Bob', 2018, 45))\n"
   ]
  },
  {
   "cell_type": "code",
   "execution_count": 38,
   "metadata": {},
   "outputs": [
    {
     "name": "stdout",
     "output_type": "stream",
     "text": [
      "(1, 'Amanda', 40)\n",
      "(2, 'Toby', 19)\n",
      "(3, 'Max', 45)\n"
     ]
    }
   ],
   "source": [
    "try: \n",
    "    cur.execute(\"SELECT transaction_id, customer_name, amount_spent FROM transactions\")\n",
    "        \n",
    "except psycopg2.Error as e: \n",
    "    print(\"Error: select *\")\n",
    "    print (e)\n",
    "\n",
    "row = cur.fetchone()\n",
    "while row:\n",
    "   print(row)\n",
    "   row = cur.fetchone()"
   ]
  },
  {
   "cell_type": "markdown",
   "metadata": {},
   "source": [
    "### Query 2: `select cashier_name, SUM(amount_spent) FROM <min number of tables> GROUP BY cashier_name` \n",
    "\n",
    "To avoid using any `JOINS`, first create a new table with just the information we need. \n",
    "\n",
    "`Table Name: cashier_sales\n",
    "col: Transaction Id\n",
    "Col: Cashier Name\n",
    "Col: Cashier Id\n",
    "col: Amount_Spent\n",
    "`\n",
    "\n",
    "\n",
    "### TO-DO: Create a new table with just the information you need."
   ]
  },
  {
   "cell_type": "code",
   "execution_count": 59,
   "metadata": {
    "collapsed": true
   },
   "outputs": [],
   "source": [
    "cur.execute(\"create table if not exists cashier_sales(transaction_name varchar,cashier_name varchar, cashier_id int,amount_spent int)\")"
   ]
  },
  {
   "cell_type": "code",
   "execution_count": 60,
   "metadata": {
    "collapsed": true
   },
   "outputs": [],
   "source": [
    "query=\"insert into cashier_sales(transaction_name,cashier_name,cashier_id,amount_spent)values(%s,%s,%s,%s)\""
   ]
  },
  {
   "cell_type": "code",
   "execution_count": 61,
   "metadata": {
    "collapsed": true
   },
   "outputs": [],
   "source": [
    "cur.execute(query,                 (1, 'Sam', 1, 40))\n",
    "cur.execute(query,                 (2, 'Sam', 1, 19))\n",
    "cur.execute(query,                 (3, 'Bob', 2, 45))\n"
   ]
  },
  {
   "cell_type": "code",
   "execution_count": 64,
   "metadata": {},
   "outputs": [],
   "source": [
    "cur.execute(\"SELECT cashier_name, sum(amount_spent) FROM cashier_sales group by cashier_name \")\n"
   ]
  },
  {
   "cell_type": "code",
   "execution_count": 65,
   "metadata": {},
   "outputs": [
    {
     "name": "stdout",
     "output_type": "stream",
     "text": [
      "('Sam', 59)\n",
      "('Bob', 45)\n"
     ]
    }
   ],
   "source": [
    "row = cur.fetchone()\n",
    "while row:\n",
    "   print(row)\n",
    "   row = cur.fetchone()"
   ]
  },
  {
   "cell_type": "code",
   "execution_count": 58,
   "metadata": {
    "collapsed": true
   },
   "outputs": [],
   "source": [
    "cur.execute(\"drop table cashier_sales\")"
   ]
  },
  {
   "cell_type": "markdown",
   "metadata": {},
   "source": [
    "### Drop the tables\n"
   ]
  },
  {
   "cell_type": "code",
   "execution_count": 66,
   "metadata": {
    "collapsed": true
   },
   "outputs": [],
   "source": [
    "try: \n",
    "    cur.execute(\"DROP table sales\")\n",
    "except psycopg2.Error as e: \n",
    "    print(\"Error: Dropping table\")\n",
    "    print (e)\n",
    "try: \n",
    "    cur.execute(\"DROP table employees\")\n",
    "except psycopg2.Error as e: \n",
    "    print(\"Error: Dropping table\")\n",
    "    print (e)\n",
    "try: \n",
    "    cur.execute(\"DROP table albums_sold\")\n",
    "except psycopg2.Error as e: \n",
    "    print(\"Error: Dropping table\")\n",
    "    print (e)\n",
    "try: \n",
    "    cur.execute(\"DROP table transactions\")\n",
    "except psycopg2.Error as e: \n",
    "    print(\"Error: Dropping table\")\n",
    "    print (e)\n",
    "try: \n",
    "    cur.execute(\"DROP table transactions2\")\n",
    "except psycopg2.Error as e: \n",
    "    print(\"Error: Dropping table\")\n",
    "    print (e)\n",
    "try: \n",
    "    cur.execute(\"DROP table cashier_sales\")\n",
    "except psycopg2.Error as e: \n",
    "    print(\"Error: Dropping table\")\n",
    "    print (e)"
   ]
  },
  {
   "cell_type": "code",
   "execution_count": null,
   "metadata": {
    "collapsed": true
   },
   "outputs": [],
   "source": []
  },
  {
   "cell_type": "markdown",
   "metadata": {},
   "source": [
    "### close all the connections "
   ]
  },
  {
   "cell_type": "code",
   "execution_count": 67,
   "metadata": {
    "collapsed": true
   },
   "outputs": [],
   "source": [
    "cur.close()\n",
    "conn.close()"
   ]
  },
  {
   "cell_type": "code",
   "execution_count": null,
   "metadata": {
    "collapsed": true
   },
   "outputs": [],
   "source": []
  }
 ],
 "metadata": {
  "kernelspec": {
   "display_name": "Python 3",
   "language": "python",
   "name": "python3"
  },
  "language_info": {
   "codemirror_mode": {
    "name": "ipython",
    "version": 3
   },
   "file_extension": ".py",
   "mimetype": "text/x-python",
   "name": "python",
   "nbconvert_exporter": "python",
   "pygments_lexer": "ipython3",
   "version": "3.6.8"
  }
 },
 "nbformat": 4,
 "nbformat_minor": 2
}
