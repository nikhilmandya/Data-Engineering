{
 "cells": [
  {
   "cell_type": "markdown",
   "metadata": {},
   "source": [
    "## Data wrangling quiz "
   ]
  },
  {
   "cell_type": "code",
   "execution_count": 1,
   "metadata": {},
   "outputs": [],
   "source": [
    "import findspark\n",
    "findspark.init('/home/nikhil/spark-2.4.4-bin-hadoop2.7/')\n",
    "from pyspark.sql import SparkSession"
   ]
  },
  {
   "cell_type": "code",
   "execution_count": 2,
   "metadata": {},
   "outputs": [],
   "source": [
    "spark=SparkSession.builder.appName('Data Wrangling quiz').getOrCreate()"
   ]
  },
  {
   "cell_type": "code",
   "execution_count": 11,
   "metadata": {},
   "outputs": [],
   "source": [
    "df=spark.read.json('data/sparkify_log_small.json')"
   ]
  },
  {
   "cell_type": "code",
   "execution_count": 12,
   "metadata": {},
   "outputs": [
    {
     "data": {
      "text/plain": [
       "DataFrame[summary: string, artist: string, auth: string, firstName: string, gender: string, itemInSession: string, lastName: string, length: string, level: string, location: string, method: string, page: string, registration: string, sessionId: string, song: string, status: string, ts: string, userAgent: string, userId: string]"
      ]
     },
     "execution_count": 12,
     "metadata": {},
     "output_type": "execute_result"
    }
   ],
   "source": [
    "df.describe()"
   ]
  },
  {
   "cell_type": "markdown",
   "metadata": {},
   "source": [
    "## Question 1\n",
    "Which page did user id \"\" Not visit?"
   ]
  },
  {
   "cell_type": "code",
   "execution_count": 14,
   "metadata": {},
   "outputs": [],
   "source": [
    "pages=df.select(\"page\").dropDuplicates().collect()\n",
    "\n",
    "empty_user_pages=df.select(\"page\").where(df.userId==\"\").dropDuplicates().collect()\n",
    "\n",
    "empty_user_not_visited_pages=list(set(pages)-set(empty_user_pages))"
   ]
  },
  {
   "cell_type": "code",
   "execution_count": 16,
   "metadata": {},
   "outputs": [
    {
     "name": "stdout",
     "output_type": "stream",
     "text": [
      "Upgrade\n",
      "Save Settings\n",
      "Downgrade\n",
      "Submit Downgrade\n",
      "Settings\n",
      "Submit Upgrade\n",
      "NextSong\n",
      "Error\n",
      "Logout\n"
     ]
    }
   ],
   "source": [
    "for row in empty_user_not_visited_pages:\n",
    "    print(row['page'])"
   ]
  },
  {
   "cell_type": "markdown",
   "metadata": {},
   "source": [
    "## 2 Reflect\n",
    "what type of user does the empty string user id most likely refer to?"
   ]
  },
  {
   "cell_type": "code",
   "execution_count": 18,
   "metadata": {},
   "outputs": [
    {
     "data": {
      "text/plain": [
       "[Row(page='Home'), Row(page='About'), Row(page='Login'), Row(page='Help')]"
      ]
     },
     "execution_count": 18,
     "metadata": {},
     "output_type": "execute_result"
    }
   ],
   "source": [
    "empty_user_pages=df.select(\"page\").where(df['userId']==\"\").dropDuplicates().collect()\n",
    "empty_user_pages"
   ]
  },
  {
   "cell_type": "markdown",
   "metadata": {},
   "source": [
    "## question3 \n",
    "#### How many female users do we have in the data set?"
   ]
  },
  {
   "cell_type": "code",
   "execution_count": 31,
   "metadata": {},
   "outputs": [
    {
     "name": "stdout",
     "output_type": "stream",
     "text": [
      "+-------+------+------------------+\n",
      "|summary|gender|            userId|\n",
      "+-------+------+------------------+\n",
      "|  count|   462|               462|\n",
      "|   mean|  null|1569.1363636363637|\n",
      "| stddev|  null| 865.8037435599671|\n",
      "|    min|     F|                10|\n",
      "|    max|     F|               989|\n",
      "+-------+------+------------------+\n",
      "\n"
     ]
    }
   ],
   "source": [
    "df.select('gender','userId').where(df['gender']=='F').dropDuplicates().describe().show()"
   ]
  },
  {
   "cell_type": "code",
   "execution_count": 58,
   "metadata": {},
   "outputs": [
    {
     "data": {
      "text/plain": [
       "462"
      ]
     },
     "execution_count": 58,
     "metadata": {},
     "output_type": "execute_result"
    }
   ],
   "source": [
    "df.select(['userId','gender']).dropDuplicates().where(df['gender']=='F').count()"
   ]
  },
  {
   "cell_type": "code",
   "execution_count": 38,
   "metadata": {},
   "outputs": [
    {
     "name": "stdout",
     "output_type": "stream",
     "text": [
      "+------+------+-------------+\n",
      "|userId|gender|count(gender)|\n",
      "+------+------+-------------+\n",
      "|  2902|     F|            2|\n",
      "|  1872|     M|            1|\n",
      "|   838|     F|            1|\n",
      "|   314|     M|           23|\n",
      "|  1941|     M|            2|\n",
      "|  1545|     M|            1|\n",
      "|   577|     F|            2|\n",
      "|  2122|     F|            6|\n",
      "|  2049|     M|            1|\n",
      "|  2967|     M|            2|\n",
      "|  1887|     F|            9|\n",
      "|  1661|     F|            2|\n",
      "|  1403|     M|            2|\n",
      "|  2546|     F|            2|\n",
      "|  1866|     F|            7|\n",
      "|  1162|     F|            4|\n",
      "|  1232|     M|          180|\n",
      "|  2675|     F|            7|\n",
      "|  1865|     M|          137|\n",
      "|  2933|     M|            1|\n",
      "+------+------+-------------+\n",
      "only showing top 20 rows\n",
      "\n"
     ]
    }
   ],
   "source": []
  },
  {
   "cell_type": "markdown",
   "metadata": {},
   "source": [
    "## Question 4\n",
    "##### How many songs were played from the most played artist?"
   ]
  },
  {
   "cell_type": "code",
   "execution_count": 73,
   "metadata": {},
   "outputs": [],
   "source": [
    "most_played=df.where(df.page==\"NextSong\").groupBy('artist').count().sort('count',ascending=False)"
   ]
  },
  {
   "cell_type": "code",
   "execution_count": 75,
   "metadata": {},
   "outputs": [],
   "source": [
    "most_played=most_played.collect()"
   ]
  },
  {
   "cell_type": "markdown",
   "metadata": {},
   "source": []
  },
  {
   "cell_type": "code",
   "execution_count": 79,
   "metadata": {},
   "outputs": [],
   "source": [
    "most_played_artist=most_played[0]['artist']"
   ]
  },
  {
   "cell_type": "code",
   "execution_count": 82,
   "metadata": {},
   "outputs": [],
   "source": [
    "song_count=df.select('song').where(df.page==\"NextSong\").where(df.artist==most_played_artist)"
   ]
  },
  {
   "cell_type": "code",
   "execution_count": null,
   "metadata": {},
   "outputs": [],
   "source": []
  }
 ],
 "metadata": {
  "kernelspec": {
   "display_name": "Python 3",
   "language": "python",
   "name": "python3"
  },
  "language_info": {
   "codemirror_mode": {
    "name": "ipython",
    "version": 3
   },
   "file_extension": ".py",
   "mimetype": "text/x-python",
   "name": "python",
   "nbconvert_exporter": "python",
   "pygments_lexer": "ipython3",
   "version": "3.6.8"
  }
 },
 "nbformat": 4,
 "nbformat_minor": 2
}
