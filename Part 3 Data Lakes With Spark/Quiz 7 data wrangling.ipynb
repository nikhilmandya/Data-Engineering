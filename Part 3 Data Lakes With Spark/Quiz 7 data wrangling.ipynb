{
 "cells": [
  {
   "cell_type": "code",
   "execution_count": 1,
   "metadata": {},
   "outputs": [],
   "source": [
    "import findspark\n",
    "findspark.init('/home/nikhil/spark-2.4.4-bin-hadoop2.7/')\n",
    "from pyspark.sql import SparkSession\n",
    "spark=SparkSession.builder.appName('sql').getOrCreate()\n"
   ]
  },
  {
   "cell_type": "code",
   "execution_count": 2,
   "metadata": {},
   "outputs": [],
   "source": [
    "user_log=spark.read.json('data/sparkify_log_small.json')"
   ]
  },
  {
   "cell_type": "code",
   "execution_count": 3,
   "metadata": {},
   "outputs": [
    {
     "data": {
      "text/plain": [
       "[Row(artist='Showaddywaddy', auth='Logged In', firstName='Kenneth', gender='M', itemInSession=112, lastName='Matthews', length=232.93342, level='paid', location='Charlotte-Concord-Gastonia, NC-SC', method='PUT', page='NextSong', registration=1509380319284, sessionId=5132, song='Christmas Tears Will Fall', status=200, ts=1513720872284, userAgent='\"Mozilla/5.0 (Windows NT 6.1) AppleWebKit/537.36 (KHTML, like Gecko) Chrome/36.0.1985.125 Safari/537.36\"', userId='1046')]"
      ]
     },
     "execution_count": 3,
     "metadata": {},
     "output_type": "execute_result"
    }
   ],
   "source": [
    "user_log.take(1)"
   ]
  },
  {
   "cell_type": "markdown",
   "metadata": {},
   "source": [
    "## Create a view for the sql\n",
    "###### It is the temp view if we end the session the createTempview does't work because temp view"
   ]
  },
  {
   "cell_type": "code",
   "execution_count": 15,
   "metadata": {},
   "outputs": [],
   "source": [
    "user_log.createOrReplaceTempView(\"user_log_table\")"
   ]
  },
  {
   "cell_type": "code",
   "execution_count": 17,
   "metadata": {},
   "outputs": [
    {
     "name": "stdout",
     "output_type": "stream",
     "text": [
      "+-------------+---------+---------+------+-------------+--------+---------+-----+--------------------+------+--------+-------------+---------+--------------------+------+-------------+--------------------+------+\n",
      "|       artist|     auth|firstName|gender|itemInSession|lastName|   length|level|            location|method|    page| registration|sessionId|                song|status|           ts|           userAgent|userId|\n",
      "+-------------+---------+---------+------+-------------+--------+---------+-----+--------------------+------+--------+-------------+---------+--------------------+------+-------------+--------------------+------+\n",
      "|Showaddywaddy|Logged In|  Kenneth|     M|          112|Matthews|232.93342| paid|Charlotte-Concord...|   PUT|NextSong|1509380319284|     5132|Christmas Tears W...|   200|1513720872284|\"Mozilla/5.0 (Win...|  1046|\n",
      "|   Lily Allen|Logged In|Elizabeth|     F|            7|   Chase|195.23873| free|Shreveport-Bossie...|   PUT|NextSong|1512718541284|     5027|       Cheryl Tweedy|   200|1513720878284|\"Mozilla/5.0 (Win...|  1000|\n",
      "+-------------+---------+---------+------+-------------+--------+---------+-----+--------------------+------+--------+-------------+---------+--------------------+------+-------------+--------------------+------+\n",
      "\n"
     ]
    }
   ],
   "source": [
    "spark.sql(\"SELECT * FROM user_log_table limit 2\").show()"
   ]
  },
  {
   "cell_type": "code",
   "execution_count": 19,
   "metadata": {},
   "outputs": [
    {
     "name": "stdout",
     "output_type": "stream",
     "text": [
      "+--------+\n",
      "|count(1)|\n",
      "+--------+\n",
      "|   10000|\n",
      "+--------+\n",
      "\n"
     ]
    }
   ],
   "source": [
    "spark.sql('''\n",
    "select count(*) from user_log_table''').show()"
   ]
  },
  {
   "cell_type": "code",
   "execution_count": 21,
   "metadata": {},
   "outputs": [
    {
     "name": "stdout",
     "output_type": "stream",
     "text": [
      "+------+---------+--------+--------------------+\n",
      "|userID|firstname|    page|                song|\n",
      "+------+---------+--------+--------------------+\n",
      "|  1046|  Kenneth|NextSong|Christmas Tears W...|\n",
      "|  1046|  Kenneth|NextSong|  Be Wary Of A Woman|\n",
      "|  1046|  Kenneth|NextSong|   Public Enemy No.1|\n",
      "|  1046|  Kenneth|NextSong|Reign Of The Tyrants|\n",
      "|  1046|  Kenneth|NextSong|      Father And Son|\n",
      "|  1046|  Kenneth|NextSong|               No. 5|\n",
      "|  1046|  Kenneth|NextSong|           Seventeen|\n",
      "|  1046|  Kenneth|    Home|                null|\n",
      "|  1046|  Kenneth|NextSong|          War on war|\n",
      "|  1046|  Kenneth|NextSong|   Killermont Street|\n",
      "|  1046|  Kenneth|NextSong|        Black & Blue|\n",
      "|  1046|  Kenneth|  Logout|                null|\n",
      "|  1046|  Kenneth|    Home|                null|\n",
      "|  1046|  Kenneth|NextSong|     Heads Will Roll|\n",
      "|  1046|  Kenneth|NextSong|Bleed It Out [Liv...|\n",
      "|  1046|  Kenneth|NextSong|              Clocks|\n",
      "|  1046|  Kenneth|NextSong|           Love Rain|\n",
      "|  1046|  Kenneth|NextSong|Ry Ry's Song (Alb...|\n",
      "|  1046|  Kenneth|NextSong|   The Invisible Man|\n",
      "|  1046|  Kenneth|NextSong|Catch You Baby (S...|\n",
      "+------+---------+--------+--------------------+\n",
      "only showing top 20 rows\n",
      "\n"
     ]
    }
   ],
   "source": [
    "spark.sql('''\n",
    "select userID,firstname,page,song\n",
    "from user_log_table where userID=='1046'\n",
    "''').show()"
   ]
  },
  {
   "cell_type": "markdown",
   "metadata": {},
   "source": [
    "## User Defined Functions"
   ]
  },
  {
   "cell_type": "code",
   "execution_count": 23,
   "metadata": {},
   "outputs": [],
   "source": [
    "from pyspark.sql.functions import udf\n",
    "import datetime"
   ]
  },
  {
   "cell_type": "code",
   "execution_count": 39,
   "metadata": {},
   "outputs": [
    {
     "data": {
      "text/plain": [
       "<function __main__.<lambda>(x)>"
      ]
     },
     "execution_count": 39,
     "metadata": {},
     "output_type": "execute_result"
    }
   ],
   "source": [
    "spark.udf.register('get_hour', lambda x: int(datetime.datetime.fromtimestamp(x / 1000.0).hour))"
   ]
  },
  {
   "cell_type": "code",
   "execution_count": 40,
   "metadata": {},
   "outputs": [
    {
     "data": {
      "text/plain": [
       "[Row(artist='Showaddywaddy', auth='Logged In', firstName='Kenneth', gender='M', itemInSession=112, lastName='Matthews', length=232.93342, level='paid', location='Charlotte-Concord-Gastonia, NC-SC', method='PUT', page='NextSong', registration=1509380319284, sessionId=5132, song='Christmas Tears Will Fall', status=200, ts=1513720872284, userAgent='\"Mozilla/5.0 (Windows NT 6.1) AppleWebKit/537.36 (KHTML, like Gecko) Chrome/36.0.1985.125 Safari/537.36\"', userId='1046', hour='23')]"
      ]
     },
     "execution_count": 40,
     "metadata": {},
     "output_type": "execute_result"
    }
   ],
   "source": [
    "spark.sql('''\n",
    "select *,get_hour(ts) as hour\n",
    "from user_log_table\n",
    "limit 1\n",
    "''').collect()"
   ]
  },
  {
   "cell_type": "code",
   "execution_count": 41,
   "metadata": {},
   "outputs": [],
   "source": [
    "songs_in_hour=spark.sql('''\n",
    "select get_hour(ts) as hour,count(*) as plays_per_hour\n",
    "from user_log_table \n",
    "where page=\"NextSong\"\n",
    "group by hour\n",
    "order by cast(hour as int) asc\n",
    "''')"
   ]
  },
  {
   "cell_type": "code",
   "execution_count": 42,
   "metadata": {},
   "outputs": [
    {
     "name": "stdout",
     "output_type": "stream",
     "text": [
      "+----+--------------+\n",
      "|hour|plays_per_hour|\n",
      "+----+--------------+\n",
      "|   0|           375|\n",
      "|   1|           456|\n",
      "|   2|           454|\n",
      "|   3|           382|\n",
      "|   4|           302|\n",
      "|   5|           352|\n",
      "|   6|           276|\n",
      "|   7|           348|\n",
      "|   8|           358|\n",
      "|   9|           375|\n",
      "|  10|           249|\n",
      "|  11|           216|\n",
      "|  12|           228|\n",
      "|  13|           251|\n",
      "|  14|           339|\n",
      "|  15|           462|\n",
      "|  16|           479|\n",
      "|  17|           484|\n",
      "|  18|           430|\n",
      "|  19|           362|\n",
      "+----+--------------+\n",
      "only showing top 20 rows\n",
      "\n"
     ]
    }
   ],
   "source": [
    "songs_in_hour.show()"
   ]
  },
  {
   "cell_type": "markdown",
   "metadata": {},
   "source": [
    "## Convert the result to pandas dataframe"
   ]
  },
  {
   "cell_type": "code",
   "execution_count": 43,
   "metadata": {},
   "outputs": [],
   "source": [
    "songs_in_hour_pd=songs_in_hour.toPandas()"
   ]
  },
  {
   "cell_type": "code",
   "execution_count": 44,
   "metadata": {},
   "outputs": [
    {
     "name": "stdout",
     "output_type": "stream",
     "text": [
      "   hour  plays_per_hour\n",
      "0     0             375\n",
      "1     1             456\n",
      "2     2             454\n",
      "3     3             382\n",
      "4     4             302\n",
      "5     5             352\n",
      "6     6             276\n",
      "7     7             348\n",
      "8     8             358\n",
      "9     9             375\n",
      "10   10             249\n",
      "11   11             216\n",
      "12   12             228\n",
      "13   13             251\n",
      "14   14             339\n",
      "15   15             462\n",
      "16   16             479\n",
      "17   17             484\n",
      "18   18             430\n",
      "19   19             362\n",
      "20   20             295\n",
      "21   21             257\n",
      "22   22             248\n",
      "23   23             369\n"
     ]
    }
   ],
   "source": [
    "print(songs_in_hour_pd)"
   ]
  },
  {
   "cell_type": "code",
   "execution_count": null,
   "metadata": {},
   "outputs": [],
   "source": []
  }
 ],
 "metadata": {
  "kernelspec": {
   "display_name": "Python 3",
   "language": "python",
   "name": "python3"
  },
  "language_info": {
   "codemirror_mode": {
    "name": "ipython",
    "version": 3
   },
   "file_extension": ".py",
   "mimetype": "text/x-python",
   "name": "python",
   "nbconvert_exporter": "python",
   "pygments_lexer": "ipython3",
   "version": "3.6.8"
  }
 },
 "nbformat": 4,
 "nbformat_minor": 2
}
